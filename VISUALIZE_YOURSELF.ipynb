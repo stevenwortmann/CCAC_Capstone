{
 "cells": [
  {
   "cell_type": "code",
   "execution_count": 13,
   "metadata": {},
   "outputs": [],
   "source": [
    "import json\n",
    "import pandas as pd"
   ]
  },
  {
   "cell_type": "code",
   "execution_count": 14,
   "metadata": {},
   "outputs": [],
   "source": [
    "heart = pd.read_json('~/Desktop/py129/self-viz/sample_heart.json')\n",
    "\n",
    "# Empty lists for heartbeats/min and Fitbit 'Confidence' value\n",
    "bpm_list = []\n",
    "conf_list = []\n",
    "\n",
    "# Populates empty lists with respective Fitbit values\n",
    "for i in heart['value']:\n",
    "    bpm_list.append(i['bpm'])\n",
    "    conf_list.append(i['confidence'])\n",
    "\n",
    "# Creates new pandas dataframes from populated lists\n",
    "bpm_df = pd.DataFrame(bpm_list)\n",
    "conf_df = pd.DataFrame(conf_list)\n",
    "\n",
    "# Assigns dataframes as new series/columns in original dataframe\n",
    "heart['BPM'] = bpm_df\n",
    "heart['Confidence'] = conf_df\n",
    "\n",
    "# Exports dataframe as CSV\n",
    "heart[['dateTime','BPM','Confidence']].to_csv(('~/Desktop/py129/self-viz/sample_heart.csv'))\n"
   ]
  },
  {
   "cell_type": "code",
   "execution_count": 15,
   "metadata": {},
   "outputs": [],
   "source": [
    "# Reads JSON file and renames column for Calories burned per minute\n",
    "calor = pd.read_json('~/Desktop/py129/self-viz/sample_calories.json')\n",
    "calor.rename(columns={'value':'Calories'}, inplace=True)\n",
    "\n",
    "# Exports dataframe as CSV\n",
    "calor.to_csv(('~/Desktop/py129/self-viz/sample_calories.csv'))\n"
   ]
  },
  {
   "cell_type": "code",
   "execution_count": 16,
   "metadata": {},
   "outputs": [],
   "source": [
    "heart = pd.read_csv('~/Desktop/py129/self-viz/denver_trip.csv')"
   ]
  },
  {
   "cell_type": "code",
   "execution_count": 18,
   "metadata": {},
   "outputs": [
    {
     "name": "stdout",
     "output_type": "stream",
     "text": [
      "Connected\n",
      "Created HEART Table\n",
      "Created CALORIE Table\n",
      "Created TRIP Table\n"
     ]
    }
   ],
   "source": [
    "import psycopg2\n",
    "\n",
    "try:\n",
    "    # Creates connection to new DB, will create DB if nonexistant\n",
    "    #conn = sqlite3.connect('heartcaltrip')\n",
    "    conn = psycopg2.connect(\n",
    "        database='heartcaltrip',\n",
    "        user='steve_wortmann',\n",
    "        password='paigek#624',\n",
    "        host='localhost'\n",
    "    )\n",
    "    \n",
    "    # Cursor will give us result set\n",
    "    cursor = conn.cursor()\n",
    "    print(\"Connected\")\n",
    "    \n",
    "    hearttable_sql='''\n",
    "                    CREATE TABLE IF NOT EXISTS\n",
    "                        heart(\n",
    "                            time_id INTEGER PRIMARY KEY,\n",
    "                            dateTime TIMESTAMP,\n",
    "                            Bpm INTEGER,\n",
    "                            Confidence INTEGER\n",
    "                        );\n",
    "                '''\n",
    "    cursor.execute(hearttable_sql)\n",
    "    conn.commit()\n",
    "    print(\"Created HEART Table\")\n",
    "    \n",
    "    calorietable_sql='''\n",
    "                    CREATE TABLE IF NOT EXISTS\n",
    "                        calorie(\n",
    "                            time_id INTEGER PRIMARY KEY,\n",
    "                            dateTime TIMESTAMP,\n",
    "                            Calories DOUBLE\n",
    "                        );\n",
    "                '''\n",
    "    cursor.execute(calorietable_sql)\n",
    "    conn.commit()\n",
    "    print(\"Created CALORIE Table\")\n",
    "\n",
    "    triptable_sql='''\n",
    "                    CREATE TABLE IF NOT EXISTS\n",
    "                        trip(\n",
    "                            time_id INTEGER PRIMARY KEY,\n",
    "                            name TEXT,\n",
    "                            address TEXT,\n",
    "                            description TEXT,\n",
    "                            TimeSpan_begin TIMESTAMP,\n",
    "                            TimeSpan_end TIMESTAMP,\n",
    "                            longitude DOUBLE,\n",
    "                            latitude DOUBLE,\n",
    "                            LineString_coordinates TEXT\n",
    "                        );\n",
    "                '''\n",
    "    cursor.execute(triptable_sql)\n",
    "    conn.commit()\n",
    "    print(\"Created TRIP Table\")\n",
    "    \n",
    "except psycopg2.Error as error:\n",
    "        print(\"Error\")\n",
    "        print(error)\n",
    "# Always close up our resources\n",
    "finally:\n",
    "    if cursor:\n",
    "        cursor.close()\n",
    "        if conn:\n",
    "            conn.close()"
   ]
  },
  {
   "cell_type": "code",
   "execution_count": 19,
   "metadata": {},
   "outputs": [],
   "source": [
    "def close_DB_resources(dbconn, cursor):\n",
    "    try:\n",
    "        if dbconn:\n",
    "            dbconn.close()\n",
    "        if cursor:\n",
    "            cursor.close()\n",
    "        print(\"closed resources\")\n",
    "    except psycopg2.Error as err:\n",
    "        (\"Error closing resources\")"
   ]
  },
  {
   "cell_type": "code",
   "execution_count": 20,
   "metadata": {},
   "outputs": [],
   "source": [
    "# Utility for handling DB errors\n",
    "def handle_DB_error(dbconn, cursor):\n",
    "    if dbconn:\n",
    "        try:\n",
    "            dbconn.rollback()\n",
    "            print(\"Rolled back transation\")\n",
    "        except psycopg2.Error as error:\n",
    "            print(\"Error rolling back transaction\")\n",
    "        finally:\n",
    "            close_DB_resources(dbconn, cursor)\n",
    "            dbconn = None\n",
    "            return dbconn"
   ]
  },
  {
   "cell_type": "code",
   "execution_count": 21,
   "metadata": {},
   "outputs": [],
   "source": [
    "# Utility DB connection and cursor function to return our access objects\n",
    "def connect_SQLite():\n",
    "    try:\n",
    "        dbconn = psycopg2.connect(\n",
    "            database='heartcaltrip',\n",
    "            user='steve_wortmann',\n",
    "            password='paigek#624',\n",
    "            host='localhost'\n",
    "        )\n",
    "        cursor = dbconn.cursor()\n",
    "        print(\"Connected to heartcaltrip\")\n",
    "    except psycopg2.Error as error:\n",
    "        print(\"Error opening database\")\n",
    "        dbconn = handle_DB_error(dbconn, cursor)\n",
    "    return dbconn, cursor"
   ]
  },
  {
   "cell_type": "code",
   "execution_count": 22,
   "metadata": {},
   "outputs": [
    {
     "name": "stdout",
     "output_type": "stream",
     "text": [
      "Connected to heartcaltrip\n",
      "(1, '2020-10-04 06:00:01', '130', '1')\n"
     ]
    },
    {
     "ename": "InvalidTextRepresentation",
     "evalue": "invalid input syntax for type integer: \"2020-10-04 06:00:01\"\nLINE 2:                   VALUES (1,'2020-10-04 06:00:01','130','1')...\n                                    ^\n",
     "output_type": "error",
     "traceback": [
      "\u001b[0;31m---------------------------------------------------------------------------\u001b[0m",
      "\u001b[0;31mInvalidTextRepresentation\u001b[0m                 Traceback (most recent call last)",
      "\u001b[0;32m<ipython-input-22-6dd99eea2a66>\u001b[0m in \u001b[0;36m<module>\u001b[0;34m\u001b[0m\n\u001b[1;32m     13\u001b[0m         \u001b[0mrecord\u001b[0m \u001b[0;34m=\u001b[0m \u001b[0;34m(\u001b[0m\u001b[0mvalue_id\u001b[0m\u001b[0;34m,\u001b[0m \u001b[0mtime\u001b[0m\u001b[0;34m[\u001b[0m\u001b[0;34m'dateTime'\u001b[0m\u001b[0;34m]\u001b[0m\u001b[0;34m,\u001b[0m \u001b[0mtime\u001b[0m\u001b[0;34m[\u001b[0m\u001b[0;34m'BPM'\u001b[0m\u001b[0;34m]\u001b[0m\u001b[0;34m,\u001b[0m \u001b[0mtime\u001b[0m\u001b[0;34m[\u001b[0m\u001b[0;34m'Confidence'\u001b[0m\u001b[0;34m]\u001b[0m\u001b[0;34m)\u001b[0m\u001b[0;34m\u001b[0m\u001b[0;34m\u001b[0m\u001b[0m\n\u001b[1;32m     14\u001b[0m         \u001b[0mprint\u001b[0m\u001b[0;34m(\u001b[0m\u001b[0mrecord\u001b[0m\u001b[0;34m)\u001b[0m\u001b[0;34m\u001b[0m\u001b[0;34m\u001b[0m\u001b[0m\n\u001b[0;32m---> 15\u001b[0;31m         \u001b[0mcursor\u001b[0m\u001b[0;34m.\u001b[0m\u001b[0mexecute\u001b[0m\u001b[0;34m(\u001b[0m\u001b[0mheart_insert\u001b[0m\u001b[0;34m,\u001b[0m \u001b[0mrecord\u001b[0m\u001b[0;34m)\u001b[0m\u001b[0;34m\u001b[0m\u001b[0;34m\u001b[0m\u001b[0m\n\u001b[0m\u001b[1;32m     16\u001b[0m         \u001b[0mdbconn\u001b[0m\u001b[0;34m.\u001b[0m\u001b[0mcommit\u001b[0m\u001b[0;34m(\u001b[0m\u001b[0;34m)\u001b[0m\u001b[0;34m\u001b[0m\u001b[0;34m\u001b[0m\u001b[0m\n\u001b[1;32m     17\u001b[0m \u001b[0;34m\u001b[0m\u001b[0m\n",
      "\u001b[0;31mInvalidTextRepresentation\u001b[0m: invalid input syntax for type integer: \"2020-10-04 06:00:01\"\nLINE 2:                   VALUES (1,'2020-10-04 06:00:01','130','1')...\n                                    ^\n"
     ]
    }
   ],
   "source": [
    "import csv\n",
    "\n",
    "heart_insert = '''INSERT INTO heart (time_id, dateTime, Bpm, Confidence)\n",
    "                  VALUES (%s,%s,%s,%s);\n",
    "                '''\n",
    "# Retrieve my connection and cursor for use in all my inserts\n",
    "dbconn, cursor = connect_SQLite()\n",
    "with open('sample_heart.csv') as file:\n",
    "    time_stamps = csv.DictReader(file)\n",
    "    value_id = 0\n",
    "    for time in time_stamps:\n",
    "        value_id += 1\n",
    "        record = (value_id, time['dateTime'], time['BPM'], time['Confidence'])\n",
    "        print(record)\n",
    "        cursor.execute(heart_insert, record)\n",
    "        dbconn.commit()\n",
    "\n",
    "close_DB_resources(dbconn, cursor)"
   ]
  },
  {
   "cell_type": "code",
   "execution_count": 10,
   "metadata": {},
   "outputs": [
    {
     "name": "stdout",
     "output_type": "stream",
     "text": [
      "Connected to heartcaltrip\n",
      "(1, '2020-10-04 06:00:00', '4.72')\n"
     ]
    },
    {
     "ename": "InvalidTextRepresentation",
     "evalue": "invalid input syntax for type integer: \"4.72\"\nLINE 2:                     VALUES (1,'2020-10-04 06:00:00','4.72');\n                                                            ^\n",
     "output_type": "error",
     "traceback": [
      "\u001b[0;31m---------------------------------------------------------------------------\u001b[0m",
      "\u001b[0;31mInvalidTextRepresentation\u001b[0m                 Traceback (most recent call last)",
      "\u001b[0;32m<ipython-input-10-0394643c075c>\u001b[0m in \u001b[0;36m<module>\u001b[0;34m\u001b[0m\n\u001b[1;32m     11\u001b[0m         \u001b[0mrecord\u001b[0m \u001b[0;34m=\u001b[0m \u001b[0;34m(\u001b[0m\u001b[0mvalue_id\u001b[0m\u001b[0;34m,\u001b[0m \u001b[0mtime\u001b[0m\u001b[0;34m[\u001b[0m\u001b[0;34m'dateTime'\u001b[0m\u001b[0;34m]\u001b[0m\u001b[0;34m,\u001b[0m \u001b[0mtime\u001b[0m\u001b[0;34m[\u001b[0m\u001b[0;34m'Calories'\u001b[0m\u001b[0;34m]\u001b[0m\u001b[0;34m)\u001b[0m\u001b[0;34m\u001b[0m\u001b[0;34m\u001b[0m\u001b[0m\n\u001b[1;32m     12\u001b[0m         \u001b[0mprint\u001b[0m\u001b[0;34m(\u001b[0m\u001b[0mrecord\u001b[0m\u001b[0;34m)\u001b[0m\u001b[0;34m\u001b[0m\u001b[0;34m\u001b[0m\u001b[0m\n\u001b[0;32m---> 13\u001b[0;31m         \u001b[0mcursor\u001b[0m\u001b[0;34m.\u001b[0m\u001b[0mexecute\u001b[0m\u001b[0;34m(\u001b[0m\u001b[0mcalorie_insert\u001b[0m\u001b[0;34m,\u001b[0m \u001b[0mrecord\u001b[0m\u001b[0;34m)\u001b[0m\u001b[0;34m\u001b[0m\u001b[0;34m\u001b[0m\u001b[0m\n\u001b[0m\u001b[1;32m     14\u001b[0m         \u001b[0mdbconn\u001b[0m\u001b[0;34m.\u001b[0m\u001b[0mcommit\u001b[0m\u001b[0;34m(\u001b[0m\u001b[0;34m)\u001b[0m\u001b[0;34m\u001b[0m\u001b[0;34m\u001b[0m\u001b[0m\n\u001b[1;32m     15\u001b[0m \u001b[0;34m\u001b[0m\u001b[0m\n",
      "\u001b[0;31mInvalidTextRepresentation\u001b[0m: invalid input syntax for type integer: \"4.72\"\nLINE 2:                     VALUES (1,'2020-10-04 06:00:00','4.72');\n                                                            ^\n"
     ]
    }
   ],
   "source": [
    "calorie_insert = '''INSERT INTO calorie (time_id, dateTime, Calories)\n",
    "                    VALUES (%s,%s,%s);\n",
    "                '''\n",
    "# Retrieve my connection and cursor for use in all my inserts\n",
    "dbconn, cursor = connect_SQLite()\n",
    "with open('sample_calories.csv') as file:\n",
    "    time_stamps = csv.DictReader(file)\n",
    "    value_id = 0\n",
    "    for time in time_stamps:\n",
    "        value_id += 1\n",
    "        record = (value_id, time['dateTime'], time['Calories'])\n",
    "        print(record)\n",
    "        cursor.execute(calorie_insert, record)\n",
    "        dbconn.commit()\n",
    "        \n",
    "close_DB_resources(dbconn, cursor)"
   ]
  },
  {
   "cell_type": "code",
   "execution_count": 11,
   "metadata": {
    "scrolled": true
   },
   "outputs": [
    {
     "name": "stdout",
     "output_type": "stream",
     "text": [
      "Connected to heartcaltrip\n",
      "(1, 'Home (701 Roosevelt Blvd)', '701 Roosevelt Blvd, Freedom, PA 15042', 'Building from 2020-10-03T00:21:12.327Z to 2020-10-03T08:22:40.539Z. Distance 0m', '2020-10-03T00:21:12.327Z', '2020-10-03T08:22:40.539Z', '-80.1614584', '40.6882963', '')\n"
     ]
    },
    {
     "ename": "InvalidTextRepresentation",
     "evalue": "invalid input syntax for type integer: \"-80.1614584\"\nLINE 2: ...0-10-03T00:21:12.327Z','2020-10-03T08:22:40.539Z','-80.16145...\n                                                             ^\n",
     "output_type": "error",
     "traceback": [
      "\u001b[0;31m---------------------------------------------------------------------------\u001b[0m",
      "\u001b[0;31mInvalidTextRepresentation\u001b[0m                 Traceback (most recent call last)",
      "\u001b[0;32m<ipython-input-11-108b267585df>\u001b[0m in \u001b[0;36m<module>\u001b[0;34m\u001b[0m\n\u001b[1;32m     11\u001b[0m         \u001b[0mrecord\u001b[0m \u001b[0;34m=\u001b[0m \u001b[0;34m(\u001b[0m\u001b[0mvalue_id\u001b[0m\u001b[0;34m,\u001b[0m \u001b[0mtime\u001b[0m\u001b[0;34m[\u001b[0m\u001b[0;34m'\\ufeffname'\u001b[0m\u001b[0;34m]\u001b[0m\u001b[0;34m,\u001b[0m \u001b[0mtime\u001b[0m\u001b[0;34m[\u001b[0m\u001b[0;34m'address'\u001b[0m\u001b[0;34m]\u001b[0m\u001b[0;34m,\u001b[0m \u001b[0mtime\u001b[0m\u001b[0;34m[\u001b[0m\u001b[0;34m'description'\u001b[0m\u001b[0;34m]\u001b[0m\u001b[0;34m,\u001b[0m \u001b[0mtime\u001b[0m\u001b[0;34m[\u001b[0m\u001b[0;34m'TimeSpan_begin'\u001b[0m\u001b[0;34m]\u001b[0m\u001b[0;34m,\u001b[0m \u001b[0mtime\u001b[0m\u001b[0;34m[\u001b[0m\u001b[0;34m'TimeSpan_end'\u001b[0m\u001b[0;34m]\u001b[0m\u001b[0;34m,\u001b[0m \u001b[0mtime\u001b[0m\u001b[0;34m[\u001b[0m\u001b[0;34m'longitude'\u001b[0m\u001b[0;34m]\u001b[0m\u001b[0;34m,\u001b[0m \u001b[0mtime\u001b[0m\u001b[0;34m[\u001b[0m\u001b[0;34m'latitude'\u001b[0m\u001b[0;34m]\u001b[0m\u001b[0;34m,\u001b[0m \u001b[0mtime\u001b[0m\u001b[0;34m[\u001b[0m\u001b[0;34m'LineString_coordinates'\u001b[0m\u001b[0;34m]\u001b[0m\u001b[0;34m)\u001b[0m\u001b[0;34m\u001b[0m\u001b[0;34m\u001b[0m\u001b[0m\n\u001b[1;32m     12\u001b[0m         \u001b[0mprint\u001b[0m\u001b[0;34m(\u001b[0m\u001b[0mrecord\u001b[0m\u001b[0;34m)\u001b[0m\u001b[0;34m\u001b[0m\u001b[0;34m\u001b[0m\u001b[0m\n\u001b[0;32m---> 13\u001b[0;31m         \u001b[0mcursor\u001b[0m\u001b[0;34m.\u001b[0m\u001b[0mexecute\u001b[0m\u001b[0;34m(\u001b[0m\u001b[0mtrip_insert\u001b[0m\u001b[0;34m,\u001b[0m \u001b[0mrecord\u001b[0m\u001b[0;34m)\u001b[0m\u001b[0;34m\u001b[0m\u001b[0;34m\u001b[0m\u001b[0m\n\u001b[0m\u001b[1;32m     14\u001b[0m         \u001b[0mdbconn\u001b[0m\u001b[0;34m.\u001b[0m\u001b[0mcommit\u001b[0m\u001b[0;34m(\u001b[0m\u001b[0;34m)\u001b[0m\u001b[0;34m\u001b[0m\u001b[0;34m\u001b[0m\u001b[0m\n\u001b[1;32m     15\u001b[0m \u001b[0;34m\u001b[0m\u001b[0m\n",
      "\u001b[0;31mInvalidTextRepresentation\u001b[0m: invalid input syntax for type integer: \"-80.1614584\"\nLINE 2: ...0-10-03T00:21:12.327Z','2020-10-03T08:22:40.539Z','-80.16145...\n                                                             ^\n"
     ]
    }
   ],
   "source": [
    "trip_insert = '''INSERT INTO trip (time_id, name, address, description, TimeSpan_begin, TimeSpan_end, longitude, latitude, LineString_coordinates)\n",
    "                 VALUES (%s,%s,%s,%s,%s,%s,%s,%s,%s);\n",
    "                '''\n",
    "# Retrieve my connection and cursor for use in all my inserts\n",
    "dbconn, cursor = connect_SQLite()\n",
    "with open('denver_trip.csv') as file:\n",
    "    time_stamps = csv.DictReader(file)\n",
    "    value_id = 0\n",
    "    for time in time_stamps:\n",
    "        value_id += 1\n",
    "        record = (value_id, time['\\ufeffname'], time['address'], time['description'], time['TimeSpan_begin'], time['TimeSpan_end'], time['longitude'], time['latitude'], time['LineString_coordinates'])\n",
    "        print(record)\n",
    "        cursor.execute(trip_insert, record)\n",
    "        dbconn.commit()\n",
    "        \n",
    "close_DB_resources(dbconn, cursor)"
   ]
  },
  {
   "cell_type": "code",
   "execution_count": 12,
   "metadata": {},
   "outputs": [
    {
     "name": "stdout",
     "output_type": "stream",
     "text": [
      "Connected to heartcaltrip\n",
      "closed resources\n"
     ]
    }
   ],
   "source": [
    "# Verify that we've got data\n",
    "\n",
    "select_sql = '''\n",
    "                SELECT *\n",
    "                    FROM trip\n",
    "                    WHERE address = '1441 Little Raven St, Denver, CO 80202';\n",
    "            '''\n",
    "\n",
    "dbconn, cursor = connect_SQLite()\n",
    "cursor.execute(select_sql)\n",
    "rec = cursor.fetchall()\n",
    "for r in rec:\n",
    "    print(r)\n",
    "\n",
    "close_DB_resources(dbconn, cursor)"
   ]
  },
  {
   "cell_type": "markdown",
   "metadata": {},
   "source": [
    "# Script looks good, but can't overwrite 'heartcaltrip' because of postgres sessions..."
   ]
  },
  {
   "cell_type": "code",
   "execution_count": null,
   "metadata": {},
   "outputs": [],
   "source": []
  },
  {
   "cell_type": "code",
   "execution_count": null,
   "metadata": {},
   "outputs": [],
   "source": []
  },
  {
   "cell_type": "code",
   "execution_count": null,
   "metadata": {},
   "outputs": [],
   "source": []
  }
 ],
 "metadata": {
  "kernelspec": {
   "display_name": "Python 3",
   "language": "python",
   "name": "python3"
  },
  "language_info": {
   "codemirror_mode": {
    "name": "ipython",
    "version": 3
   },
   "file_extension": ".py",
   "mimetype": "text/x-python",
   "name": "python",
   "nbconvert_exporter": "python",
   "pygments_lexer": "ipython3",
   "version": "3.7.9"
  }
 },
 "nbformat": 4,
 "nbformat_minor": 2
}
